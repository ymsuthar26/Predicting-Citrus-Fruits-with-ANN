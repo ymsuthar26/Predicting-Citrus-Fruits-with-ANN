{
 "cells": [
  {
   "cell_type": "code",
   "execution_count": 1,
   "id": "71d33242-8d30-42cc-a463-c2fce179105b",
   "metadata": {},
   "outputs": [],
   "source": [
    "import numpy as np\n",
    "import pandas as pd\n",
    "import matplotlib.pyplot as plt \n",
    "import seaborn as sns"
   ]
  },
  {
   "cell_type": "code",
   "execution_count": 2,
   "id": "5663921e-9412-4cee-9fda-eeda49a26fad",
   "metadata": {},
   "outputs": [],
   "source": [
    "df=pd.read_csv('citrus.csv')"
   ]
  },
  {
   "cell_type": "code",
   "execution_count": null,
   "id": "980e3fd1-96a9-48fe-979d-42e31c8bb89f",
   "metadata": {},
   "outputs": [],
   "source": [
    "from sklearn.preprocessing import LabelEncoder, StandardScaler"
   ]
  },
  {
   "cell_type": "code",
   "execution_count": null,
   "id": "fc03053f-20df-4951-adb0-9b74ea6daada",
   "metadata": {},
   "outputs": [],
   "source": [
    "le=LabelEncoder()\n",
    "ss=StandardScaler()"
   ]
  },
  {
   "cell_type": "code",
   "execution_count": null,
   "id": "36b76bda-7a0c-474b-b13b-7e6bdfbbe5b0",
   "metadata": {},
   "outputs": [],
   "source": [
    "df['name']=le.fit_transform(df['name'])"
   ]
  },
  {
   "cell_type": "code",
   "execution_count": null,
   "id": "ab32fe61-6854-4fc1-831c-214ae80d3ac1",
   "metadata": {},
   "outputs": [],
   "source": [
    "X=df.drop('name',axis=1)\n",
    "y=df['name']"
   ]
  },
  {
   "cell_type": "code",
   "execution_count": null,
   "id": "19bf2bda-cba7-4769-bafb-eb060e87e745",
   "metadata": {},
   "outputs": [],
   "source": [
    "X=ss.fit_transform(X)"
   ]
  },
  {
   "cell_type": "code",
   "execution_count": null,
   "id": "2f07b4d2-b5ae-4887-ae08-e21b4d354206",
   "metadata": {},
   "outputs": [],
   "source": [
    "from sklearn.model_selection import train_test_split\n",
    "X_train, X_test,y_train, y_test= train_test_split(X,y, test_size=0.2, stratify=y)"
   ]
  },
  {
   "cell_type": "code",
   "execution_count": null,
   "id": "ec4b06d0-54fc-4556-a7ca-286f3aa01141",
   "metadata": {},
   "outputs": [],
   "source": [
    "from tensorflow.keras.models import Sequential\n",
    "from tensorflow.keras.layers import Dense\n",
    "from tensorflow.keras.optimizers import Adam"
   ]
  },
  {
   "cell_type": "code",
   "execution_count": null,
   "id": "8bd83f74-447c-4a2f-9397-74e39d8ce6d4",
   "metadata": {},
   "outputs": [],
   "source": [
    "#BUILD MODEL\n",
    "#relu= (0,max)\n",
    "#output layer activation function\n",
    "#binary=sigmoid\n",
    "#multi classification = softmax\n",
    "#regression= no activation function\n",
    "model= Sequential([\n",
    "    Dense(32, activation='relu', input_dim=(5)),#input layer\n",
    "    Dense(16, activation='relu'),#hidden layer 1\n",
    "    Dense(8,  activation='tanh'),#hidden layer 2\n",
    "    Dense(1,  activation='sigmoid'), #output layer\n",
    "    \n",
    "])\n",
    "model.summary()\n",
    "#COMPILE MODEL\n",
    "#LOSS\n",
    "#binary= 'binary_crossentropy'\n",
    "#multi classs= 'categorical_crossentropy'\n",
    "#regression = 'mse'\n",
    "model.compile(Adam(learning_rate=0.001),loss='binary_crossentropy',metrics=['accuracy'])\n",
    "#RUN MODEL\n",
    "model.fit(X_train,y_train,epochs=100,batch_size=45)"
   ]
  },
  {
   "cell_type": "code",
   "execution_count": 90,
   "id": "c34f9f7c-437f-454d-9c76-43d04571eab6",
   "metadata": {},
   "outputs": [
    {
     "name": "stdout",
     "output_type": "stream",
     "text": [
      "63/63 [==============================] - 0s 5ms/step\n"
     ]
    }
   ],
   "source": [
    "y_pred=model.predict(X_test)>0.3"
   ]
  },
  {
   "cell_type": "code",
   "execution_count": 91,
   "id": "c57fff52-52ed-4f65-8a1d-0d5bd0d470bd",
   "metadata": {},
   "outputs": [
    {
     "name": "stdout",
     "output_type": "stream",
     "text": [
      "              precision    recall  f1-score   support\n",
      "\n",
      "           0       0.98      0.98      0.98      1000\n",
      "           1       0.98      0.98      0.98      1000\n",
      "\n",
      "    accuracy                           0.98      2000\n",
      "   macro avg       0.98      0.98      0.98      2000\n",
      "weighted avg       0.98      0.98      0.98      2000\n",
      "\n"
     ]
    }
   ],
   "source": [
    "from sklearn.metrics import classification_report\n",
    "print(classification_report(y_test,y_pred))"
   ]
  },
  {
   "cell_type": "code",
   "execution_count": null,
   "id": "73fc94df-cd65-4116-ab32-881f64af5449",
   "metadata": {},
   "outputs": [],
   "source": []
  }
 ],
 "metadata": {
  "kernelspec": {
   "display_name": "Python [conda env:base] *",
   "language": "python",
   "name": "conda-base-py"
  },
  "language_info": {
   "codemirror_mode": {
    "name": "ipython",
    "version": 3
   },
   "file_extension": ".py",
   "mimetype": "text/x-python",
   "name": "python",
   "nbconvert_exporter": "python",
   "pygments_lexer": "ipython3",
   "version": "3.12.7"
  }
 },
 "nbformat": 4,
 "nbformat_minor": 5
}
